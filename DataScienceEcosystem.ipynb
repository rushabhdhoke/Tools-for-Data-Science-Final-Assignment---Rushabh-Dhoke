{
 "cells": [
  {
   "cell_type": "markdown",
   "id": "0a7e804e-9350-4f09-82dd-f9c909906984",
   "metadata": {},
   "source": [
    "# Data Science Tools and Ecosystem"
   ]
  },
  {
   "cell_type": "markdown",
   "id": "3a27f341-bd90-4555-a4cb-ce1c86407b20",
   "metadata": {},
   "source": [
    "In this notebook, Data Science Tools and Ecosystem are summarized."
   ]
  },
  {
   "cell_type": "markdown",
   "id": "4e257910-7eae-401a-897f-992db61eeae8",
   "metadata": {},
   "source": [
    "**Objectives:**\n",
    "\n",
    "*List popular languages for Data Science:*\n",
    "* Python\n",
    "* R\n",
    "* Tableau\n",
    "* SQL\n",
    "* Excel"
   ]
  },
  {
   "cell_type": "markdown",
   "id": "b08acc5e-f751-4fc0-b11c-5f863e04ac7d",
   "metadata": {},
   "source": [
    "Some of the popular languages that Data Scientists use are:"
   ]
  },
  {
   "cell_type": "markdown",
   "id": "0a5862c4-841e-4d37-851a-f88eedefc804",
   "metadata": {},
   "source": [
    "1. Python\n",
    "2. R\n",
    "3. Tableau\n",
    "4. SQL\n",
    "5. Excel"
   ]
  },
  {
   "cell_type": "markdown",
   "id": "faa10d0f-0f6a-4166-80f1-9917e8007013",
   "metadata": {},
   "source": [
    "Some of the commonly used libraries used by Data Scientists include:"
   ]
  },
  {
   "cell_type": "markdown",
   "id": "910f7745-a579-4662-b892-ea7d300825a3",
   "metadata": {},
   "source": [
    "* scikit-learn\n",
    "* TensorFlow\n",
    "* Scrapy\n",
    "* Pandas and Numpy"
   ]
  },
  {
   "cell_type": "markdown",
   "id": "81254efc-e9d4-4095-863b-471a9b21af3a",
   "metadata": {},
   "source": [
    "| Data Science Tools |\n",
    "| ------------------ |\n",
    "| RStudio |\n",
    "| TensorFlow |\n",
    "| Apache Hadoop |"
   ]
  },
  {
   "cell_type": "markdown",
   "id": "0fbc5f2f-b84b-4191-9617-68552a82c51d",
   "metadata": {},
   "source": [
    "### Below are a few examples of evaluating arithmetic expressions in Python"
   ]
  },
  {
   "cell_type": "markdown",
   "id": "206ce48a-b015-4c82-9852-f4a02d5e0f34",
   "metadata": {},
   "source": [
    "This a simple arithmetic expression to mutiply then add integers"
   ]
  },
  {
   "cell_type": "code",
   "execution_count": 4,
   "id": "df3b41b9-6858-481d-9e92-6cfd81be01e2",
   "metadata": {},
   "outputs": [
    {
     "data": {
      "text/plain": [
       "17"
      ]
     },
     "execution_count": 4,
     "metadata": {},
     "output_type": "execute_result"
    }
   ],
   "source": [
    "(3*4)+5"
   ]
  },
  {
   "cell_type": "markdown",
   "id": "0b76daf7-ce44-4c54-9485-2172d755d1e4",
   "metadata": {},
   "source": [
    "This will convert 200 minutes to hours by diving by 60"
   ]
  },
  {
   "cell_type": "code",
   "execution_count": 8,
   "id": "87f2a6e8-d19c-488d-a33b-41a257a84f27",
   "metadata": {},
   "outputs": [
    {
     "name": "stdout",
     "output_type": "stream",
     "text": [
      "3.3333333333333335 Hours\n"
     ]
    }
   ],
   "source": [
    "a = 200/60\n",
    "print(a,'Hours')\n"
   ]
  },
  {
   "cell_type": "markdown",
   "id": "a012f20a-66cb-4f8f-aff3-935ae9d68625",
   "metadata": {},
   "source": [
    "## Author\n",
    "\n",
    "RUSHABH DHOKE"
   ]
  }
 ],
 "metadata": {
  "kernelspec": {
   "display_name": "Python",
   "language": "python",
   "name": "conda-env-python-py"
  },
  "language_info": {
   "codemirror_mode": {
    "name": "ipython",
    "version": 3
   },
   "file_extension": ".py",
   "mimetype": "text/x-python",
   "name": "python",
   "nbconvert_exporter": "python",
   "pygments_lexer": "ipython3",
   "version": "3.7.12"
  }
 },
 "nbformat": 4,
 "nbformat_minor": 5
}
